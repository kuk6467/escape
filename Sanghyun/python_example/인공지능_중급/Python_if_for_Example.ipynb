{
 "cells": [
  {
   "cell_type": "markdown",
   "metadata": {},
   "source": [
    "#### [예제 1] 아래와 같은 패턴의 별(*)을 출력하는 프로그램을 end='' 을 이용하여 작성하시오 "
   ]
  },
  {
   "cell_type": "code",
   "execution_count": 1,
   "metadata": {},
   "outputs": [
    {
     "name": "stdout",
     "output_type": "stream",
     "text": [
      "*****"
     ]
    }
   ],
   "source": [
    "for i in range(5):\n",
    "    \n",
    "    print('*', end='')"
   ]
  },
  {
   "cell_type": "markdown",
   "metadata": {},
   "source": [
    "#### [예제 2] 아래와 같은 패턴의 별(*)을 출력하는 프로그램을 end='' 을 이용하여 작성하시오"
   ]
  },
  {
   "cell_type": "code",
   "execution_count": 2,
   "metadata": {},
   "outputs": [
    {
     "name": "stdout",
     "output_type": "stream",
     "text": [
      "*****\n",
      "****\n",
      "***\n",
      "**\n",
      "*\n"
     ]
    }
   ],
   "source": [
    "for i in range(5):\n",
    "    for k in range(5-i):\n",
    "        print('*', end='')\n",
    "    print(\"\")"
   ]
  },
  {
   "cell_type": "markdown",
   "metadata": {},
   "source": [
    "#### [예제 3] 2개의 for 문을 이용해 다음과 같이 출력되는 프로그램을 작성하시오. "
   ]
  },
  {
   "cell_type": "code",
   "execution_count": 3,
   "metadata": {},
   "outputs": [
    {
     "name": "stdout",
     "output_type": "stream",
     "text": [
      "delivery:  102\n",
      "delivery:  103\n",
      "delivery:  104\n",
      "delivery:  201\n",
      "delivery:  202\n",
      "delivery:  204\n",
      "delivery:  302\n",
      "delivery:  303\n",
      "delivery:  304\n",
      "delivery:  401\n",
      "delivery:  402\n",
      "delivery:  403\n"
     ]
    }
   ],
   "source": [
    "apt_building = [[101, 102, 103, 104],[201, 202, 203, 204],[301, 302, 303, 304], [401, 402, 403, 404]]\n",
    "unpaid_house = [101, 203, 301, 404] \n",
    "\n",
    "for floor in apt_building:\n",
    "    \n",
    "    for house in floor:\n",
    "        \n",
    "        if house in unpaid_house:\n",
    "            continue\n",
    "        else:\n",
    "            print(\"delivery: \", house)"
   ]
  },
  {
   "cell_type": "markdown",
   "metadata": {},
   "source": [
    "#### [예제 4] 짝수 출력하는 다음 코드를 List Comprehension 으로 구현하시오"
   ]
  },
  {
   "cell_type": "code",
   "execution_count": 4,
   "metadata": {},
   "outputs": [
    {
     "name": "stdout",
     "output_type": "stream",
     "text": [
      "[0, 2, 4, 6, 8]\n"
     ]
    }
   ],
   "source": [
    "even_number = [  x  for x in range(10)  if x % 2 == 0 ]\n",
    "\n",
    "print(even_number)"
   ]
  },
  {
   "cell_type": "markdown",
   "metadata": {},
   "source": [
    "#### [예제 5]  my_list = [‘A’, ‘B’, ‘C’, ‘D’]  에서,  for 문과 슬라이싱을 이용하여 첫 번째 데이터를 제외하고 나머지 데이터를 출력하시오"
   ]
  },
  {
   "cell_type": "code",
   "execution_count": 5,
   "metadata": {},
   "outputs": [
    {
     "name": "stdout",
     "output_type": "stream",
     "text": [
      "B\n",
      "C\n",
      "D\n"
     ]
    }
   ],
   "source": [
    "my_list = [ 'A', 'B', 'C', 'D' ]\n",
    "\n",
    "for data in my_list[1:]:\n",
    "    \n",
    "    print(data)"
   ]
  },
  {
   "cell_type": "markdown",
   "metadata": {},
   "source": [
    "#### [예제 6] my_list = [3, 1, 7, 12, 5, 16]  에서, 3의 배수이거나 4의 배수를 화면에 출력하시오"
   ]
  },
  {
   "cell_type": "code",
   "execution_count": 6,
   "metadata": {},
   "outputs": [
    {
     "name": "stdout",
     "output_type": "stream",
     "text": [
      "3\n",
      "12\n",
      "16\n"
     ]
    }
   ],
   "source": [
    "my_list = [3, 1, 7, 12, 5, 16]  \n",
    "\n",
    "for data in my_list:\n",
    "    \n",
    "    if data % 3 == 0  or  data % 4 == 0:\n",
    "        \n",
    "        print(data)"
   ]
  },
  {
   "attachments": {},
   "cell_type": "markdown",
   "metadata": {},
   "source": [
    "#### [예제 7] test_data= [ [1, 2, 3],  [4, 5, 6],  [7, 8, 9],  [10, 11, 12],  [13, 14, 15] ]  에 대하여, 다음의 값이 나오도록 파이썬 코드를 구현하시오"
   ]
  },
  {
   "cell_type": "code",
   "execution_count": 1,
   "metadata": {},
   "outputs": [],
   "source": [
    "test_data= [ [1, 2, 3], [4, 5, 6], [7, 8, 9], [10, 11, 12], [13, 14, 15] ] "
   ]
  },
  {
   "cell_type": "code",
   "execution_count": 5,
   "metadata": {},
   "outputs": [
    {
     "data": {
      "text/plain": [
       "[[2], [5], [8], [11], [14]]"
      ]
     },
     "execution_count": 5,
     "metadata": {},
     "output_type": "execute_result"
    }
   ],
   "source": [
    "data1= [ value[1:-1] for value in test_data ]\n",
    "data1"
   ]
  },
  {
   "cell_type": "code",
   "execution_count": 6,
   "metadata": {},
   "outputs": [
    {
     "data": {
      "text/plain": [
       "[[1, 3], [4, 6], [7, 9], [10, 12], [13, 15]]"
      ]
     },
     "execution_count": 6,
     "metadata": {},
     "output_type": "execute_result"
    }
   ],
   "source": [
    "data2= [ [ value[0], value[-1] ]  for value in test_data ]\n",
    "data2"
   ]
  },
  {
   "cell_type": "code",
   "execution_count": 7,
   "metadata": {},
   "outputs": [
    {
     "data": {
      "text/plain": [
       "[3, 9, 15]"
      ]
     },
     "execution_count": 7,
     "metadata": {},
     "output_type": "execute_result"
    }
   ],
   "source": [
    "data3 = [ value[-1]   for index, value in enumerate(test_data) if index % 2 ==0  ]\n",
    "data3"
   ]
  },
  {
   "cell_type": "code",
   "execution_count": 8,
   "metadata": {},
   "outputs": [
    {
     "data": {
      "text/plain": [
       "[[1], [7], [13]]"
      ]
     },
     "execution_count": 8,
     "metadata": {},
     "output_type": "execute_result"
    }
   ],
   "source": [
    "data4 = [ [value[0]]   for index, value in enumerate(test_data) if index % 2 ==0  ]\n",
    "data4"
   ]
  },
  {
   "cell_type": "code",
   "execution_count": 9,
   "metadata": {},
   "outputs": [
    {
     "data": {
      "text/plain": [
       "[[[5, 6]], [[11, 12]]]"
      ]
     },
     "execution_count": 9,
     "metadata": {},
     "output_type": "execute_result"
    }
   ],
   "source": [
    "data5 = [ [value[1:]]   for index, value in enumerate(test_data) if index % 2 != 0  ]\n",
    "data5"
   ]
  },
  {
   "cell_type": "code",
   "execution_count": 4,
   "metadata": {},
   "outputs": [
    {
     "data": {
      "text/plain": [
       "[[10, 20], [1, 2], [100, 200]]"
      ]
     },
     "execution_count": 4,
     "metadata": {},
     "output_type": "execute_result"
    }
   ],
   "source": [
    "tdata"
   ]
  },
  {
   "cell_type": "markdown",
   "metadata": {},
   "source": [
    "#### [예제 8] test_dir1 디렉토리에 다음과 같은 파일이 있을 때, list comprehension 을 이용하여 cat, dog 등의 동물이름을 추출하시오 \n",
    "\n",
    "#### (디렉토리 분리자는 윈도우에서는  ‘\\\\’, 리눅스에서는 ‘/’ ) "
   ]
  },
  {
   "cell_type": "code",
   "execution_count": 11,
   "metadata": {},
   "outputs": [
    {
     "data": {
      "text/plain": [
       "['test_dir1\\\\cat.6.jpg',\n",
       " 'test_dir1\\\\cat.9.jpg',\n",
       " 'test_dir1\\\\dog.6316.jpg',\n",
       " 'test_dir1\\\\dog.6331.jpg']"
      ]
     },
     "execution_count": 11,
     "metadata": {},
     "output_type": "execute_result"
    }
   ],
   "source": [
    "import glob\n",
    "\n",
    "files = glob.glob('test_dir1/*')\n",
    "\n",
    "files"
   ]
  },
  {
   "cell_type": "code",
   "execution_count": 13,
   "metadata": {},
   "outputs": [
    {
     "data": {
      "text/plain": [
       "['cat', 'cat', 'dog', 'dog']"
      ]
     },
     "execution_count": 13,
     "metadata": {},
     "output_type": "execute_result"
    }
   ],
   "source": [
    "animal_name = [ data.split('\\\\')[1].split('.')[0].strip()  for data in files ]\n",
    "\n",
    "animal_name"
   ]
  },
  {
   "cell_type": "markdown",
   "metadata": {},
   "source": [
    "#### [예제 9] test_dir2 디렉토리에 다음과 같은 파일이 있을 때, list comprehension 을 이용하여 cat, dog, rabbit, deer 등의 동물이름을 추출하시오 \n",
    "\n",
    "#### (디렉토리 분리자는 윈도우에서는  ‘\\\\’, 리눅스에서는 ‘/’ ) \n"
   ]
  },
  {
   "cell_type": "code",
   "execution_count": 14,
   "metadata": {},
   "outputs": [
    {
     "name": "stdout",
     "output_type": "stream",
     "text": [
      "['test_dir2\\\\1. cat.6.jpg', 'test_dir2\\\\10. rabbit.131.jpg', 'test_dir2\\\\2. cat.9.jpg', 'test_dir2\\\\3.cat.90.png', 'test_dir2\\\\4. deer.98.jpg', 'test_dir2\\\\5. dog.1.png', 'test_dir2\\\\6.  dog  .6316.jpg', 'test_dir2\\\\7.dog.6331.jpg', 'test_dir2\\\\8.rabbit.1.8.jpg', 'test_dir2\\\\9.  rabbit.  1.8.png']\n",
      "<class 'list'>\n",
      "['cat', 'rabbit', 'cat', 'cat', 'deer', 'dog', 'dog', 'dog', 'rabbit', 'rabbit']\n",
      "['jpg', 'jpg', 'jpg', 'png', 'jpg', 'png', 'jpg', 'jpg', 'jpg', 'png']\n"
     ]
    }
   ],
   "source": [
    "import glob\n",
    "\n",
    "all_files = glob.glob('test_dir2/*')\n",
    "\n",
    "print(all_files)\n",
    "print(type(all_files))\n",
    "\n",
    "animal_name =  [ data.split('\\\\')[-1].split('.')[1].strip() for data in all_files ]\n",
    "\n",
    "file_extension = [ data.split('\\\\')[-1].split('.')[-1].strip() for data in all_files ]\n",
    "\n",
    "print(animal_name)\n",
    "\n",
    "print(file_extension)"
   ]
  },
  {
   "cell_type": "code",
   "execution_count": 15,
   "metadata": {},
   "outputs": [
    {
     "name": "stdout",
     "output_type": "stream",
     "text": [
      "['test_dir2\\\\1. cat.6.jpg', 'test_dir2\\\\10. rabbit.131.jpg', 'test_dir2\\\\2. cat.9.jpg', 'test_dir2\\\\3.cat.90.png', 'test_dir2\\\\4. deer.98.jpg', 'test_dir2\\\\5. dog.1.png', 'test_dir2\\\\6.  dog  .6316.jpg', 'test_dir2\\\\7.dog.6331.jpg', 'test_dir2\\\\8.rabbit.1.8.jpg', 'test_dir2\\\\9.  rabbit.  1.8.png']\n"
     ]
    }
   ],
   "source": [
    "all_files = glob.glob('test_dir2/*')\n",
    "\n",
    "print(all_files)"
   ]
  },
  {
   "cell_type": "markdown",
   "metadata": {},
   "source": [
    "#### [예제 10] test_dir3 디렉토리에 다음과 같은 파일이 있을 때, list comprehension 과  enumerate 함수를 이용하여 ‘dog’이 포함된 파일 이름만 추출하시오\n",
    "#### 즉 ‘dog.1.png’ ,  ‘dog.6316.jpg’,  ‘dog.6331.jpg’  항목이 추출되어야 함"
   ]
  },
  {
   "cell_type": "code",
   "execution_count": 33,
   "metadata": {},
   "outputs": [
    {
     "data": {
      "text/plain": [
       "['test_dir3\\\\dog.1.png', 'test_dir3\\\\dog.6316.jpg', 'test_dir3\\\\dog.6331.jpg']"
      ]
     },
     "execution_count": 33,
     "metadata": {},
     "output_type": "execute_result"
    }
   ],
   "source": [
    "all_files = glob.glob('test_dir3/*')\n",
    "\n",
    "dog_list = [ file_name for file_name in all_files if 'dog' in file_name ]\n",
    "\n",
    "dog_list"
   ]
  },
  {
   "cell_type": "code",
   "execution_count": 35,
   "metadata": {},
   "outputs": [
    {
     "data": {
      "text/plain": [
       "['dog.1.png', 'dog.6316.jpg', 'dog.6331.jpg']"
      ]
     },
     "execution_count": 35,
     "metadata": {},
     "output_type": "execute_result"
    }
   ],
   "source": [
    "dog_file = []\n",
    "\n",
    "for index, name in enumerate(dog_list):\n",
    "    \n",
    "    file_name = dog_list[index].split('\\\\')[-1]\n",
    "    \n",
    "    dog_file.append(file_name.strip())\n",
    "    \n",
    "dog_file"
   ]
  },
  {
   "cell_type": "markdown",
   "metadata": {},
   "source": [
    "#### [예제 11] 변수 a 값을 예측 하시오"
   ]
  },
  {
   "cell_type": "code",
   "execution_count": 7,
   "metadata": {},
   "outputs": [
    {
     "data": {
      "text/plain": [
       "[[[], [], []], [[], [], []], [[], [], []]]"
      ]
     },
     "execution_count": 7,
     "metadata": {},
     "output_type": "execute_result"
    }
   ],
   "source": [
    "a = [[[]  for  j  in range(3)]  for  i  in range(3)]  \n",
    "\n",
    "a"
   ]
  },
  {
   "cell_type": "code",
   "execution_count": 8,
   "metadata": {},
   "outputs": [
    {
     "data": {
      "text/plain": [
       "[[], [], []]"
      ]
     },
     "execution_count": 8,
     "metadata": {},
     "output_type": "execute_result"
    }
   ],
   "source": [
    "first = [[]  for  j  in range(3)]\n",
    "\n",
    "first"
   ]
  },
  {
   "cell_type": "code",
   "execution_count": 3,
   "metadata": {},
   "outputs": [
    {
     "data": {
      "text/plain": [
       "[[[], [], []], [[], [], []], [[], [], []]]"
      ]
     },
     "execution_count": 3,
     "metadata": {},
     "output_type": "execute_result"
    }
   ],
   "source": [
    "second = [ [[], [], []] for  i  in range(3) ]\n",
    "\n",
    "second"
   ]
  },
  {
   "cell_type": "markdown",
   "metadata": {},
   "source": [
    "#### [예제 12] 다음과 같은 리스트 변수에 대해서 아래의 결과가 출력되도록 코드를 구현하시오\n",
    "\n",
    "#### layer_names = [ ‘input’, ‘conv1’, ‘pooling1’, ‘conv2’, ‘flatten’ ] , parameter_nums = [ 0, 64,  64, 128, 512 ]"
   ]
  },
  {
   "cell_type": "code",
   "execution_count": 2,
   "metadata": {},
   "outputs": [],
   "source": [
    "layer_names = [ 'input', 'conv1', 'pooling1', 'conv2', 'flatten' ]\n",
    "\n",
    "parameter_nums = [ 0, 64,  64, 128, 512 ]"
   ]
  },
  {
   "cell_type": "code",
   "execution_count": 4,
   "metadata": {},
   "outputs": [
    {
     "name": "stdout",
     "output_type": "stream",
     "text": [
      "1 input 0\n",
      "2 conv1 64\n",
      "3 pooling1 64\n",
      "4 conv2 128\n",
      "5 flatten 512\n"
     ]
    }
   ],
   "source": [
    "for index, (layer_name, parameter_num) in enumerate(zip(layer_names, parameter_nums)):\n",
    "    \n",
    "    print(index+1, layer_name, parameter_num)"
   ]
  },
  {
   "cell_type": "code",
   "execution_count": null,
   "metadata": {},
   "outputs": [],
   "source": []
  }
 ],
 "metadata": {
  "anaconda-cloud": {},
  "kernelspec": {
   "display_name": "Python 3",
   "language": "python",
   "name": "python3"
  },
  "language_info": {
   "codemirror_mode": {
    "name": "ipython",
    "version": 3
   },
   "file_extension": ".py",
   "mimetype": "text/x-python",
   "name": "python",
   "nbconvert_exporter": "python",
   "pygments_lexer": "ipython3",
   "version": "3.7.3"
  }
 },
 "nbformat": 4,
 "nbformat_minor": 1
}
